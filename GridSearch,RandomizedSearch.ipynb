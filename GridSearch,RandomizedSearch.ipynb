{
 "cells": [
  {
   "cell_type": "markdown",
   "id": "6c3125a6",
   "metadata": {},
   "source": [
    "# 1. Baseine"
   ]
  },
  {
   "cell_type": "code",
   "execution_count": 1,
   "id": "28cb989a",
   "metadata": {},
   "outputs": [],
   "source": [
    "import pandas as pd\n",
    "import seaborn as sns\n",
    "from sklearn.model_selection import train_test_split, GridSearchCV\n",
    "from sklearn.preprocessing import StandardScaler\n",
    "from sklearn.linear_model import LogisticRegression\n",
    "from sklearn.metrics import roc_auc_score\n",
    "import warnings\n",
    "\n",
    "warnings.filterwarnings('ignore')"
   ]
  },
  {
   "cell_type": "code",
   "execution_count": 2,
   "id": "ea3940f0",
   "metadata": {},
   "outputs": [],
   "source": [
    "df = sns.load_dataset('titanic')\n",
    "# удаление признаков\n",
    "df.drop(columns=['alive', 'deck'], inplace=True)\n",
    "# заполнение пропусков модой\n",
    "df.fillna(df.mode().iloc[0], inplace=True)\n",
    "df_label = pd.get_dummies(df, drop_first=True)"
   ]
  },
  {
   "cell_type": "code",
   "execution_count": 3,
   "id": "f1dde339",
   "metadata": {},
   "outputs": [],
   "source": [
    "X = df_label.drop('survived', axis=1)\n",
    "y = df_label['survived']\n",
    "\n",
    "X_train, X_test, y_train, y_test = train_test_split(X,\n",
    "                                                    y,\n",
    "                                                    stratify=y,\n",
    "                                                    test_size=0.2,\n",
    "                                                    random_state=42)\n",
    "sc = StandardScaler()\n",
    "X_train_std = sc.fit_transform(X_train)\n",
    "X_test_std = sc.transform(X_test)"
   ]
  },
  {
   "cell_type": "code",
   "execution_count": 4,
   "id": "18a4f533",
   "metadata": {},
   "outputs": [
    {
     "name": "stdout",
     "output_type": "stream",
     "text": [
      "ROC-AUC train = 0.8690455330546447\n",
      "ROC-AUC test = 0.8683135704874835\n"
     ]
    }
   ],
   "source": [
    "lr_base = LogisticRegression()\n",
    "lr_base.fit(X_train_std, y_train)\n",
    "\n",
    "# получение вероятностей\n",
    "y_train_base = lr_base.predict_proba(X_train_std)\n",
    "y_proba_base = lr_base.predict_proba(X_test_std)\n",
    "\n",
    "print(f'ROC-AUC train = {roc_auc_score(y_train, y_train_base[:,1])}')\n",
    "print(f'ROC-AUC test = {roc_auc_score(y_test, y_proba_base[:,1])}')"
   ]
  },
  {
   "cell_type": "markdown",
   "id": "ab79f513",
   "metadata": {},
   "source": [
    "# 2. GridSearch"
   ]
  },
  {
   "cell_type": "markdown",
   "id": "2d7b4b46",
   "metadata": {},
   "source": [
    "Теперь посмотрим, как изменится значение метрики при подборе"
   ]
  },
  {
   "cell_type": "code",
   "execution_count": 7,
   "id": "fd84fa14",
   "metadata": {},
   "outputs": [],
   "source": [
    "# создадим словарь с параметрами, которые хотим установить и перебрать\n",
    "parameters = {\n",
    "    'max_iter': [1000],\n",
    "    'C': [1, 10, 100],\n",
    "    \"solver\": [\"liblinear\", \"saga\", \"sag\", \"lbfgs\"],\n",
    "    'penalty': ['l1', 'l2', 'elasticnet', 'none'],\n",
    "    \"random_state\": [42],\n",
    "    \"class_weight\" : ['balanced']\n",
    "}"
   ]
  },
  {
   "cell_type": "code",
   "execution_count": 8,
   "id": "6429d7fd",
   "metadata": {},
   "outputs": [
    {
     "data": {
      "text/plain": [
       "GridSearchCV(cv=3, estimator=LogisticRegression(),\n",
       "             param_grid={'C': [1, 10, 100], 'class_weight': ['balanced'],\n",
       "                         'max_iter': [1000],\n",
       "                         'penalty': ['l1', 'l2', 'elasticnet', 'none'],\n",
       "                         'random_state': [42],\n",
       "                         'solver': ['liblinear', 'saga', 'sag', 'lbfgs']},\n",
       "             scoring='roc_auc')"
      ]
     },
     "execution_count": 8,
     "metadata": {},
     "output_type": "execute_result"
    }
   ],
   "source": [
    "lr_grid = LogisticRegression()\n",
    "# подаем на вход модель, словарь с параметрами, установим, на какую метрику ориентироваться\n",
    "clf = GridSearchCV(estimator=lr_grid,\n",
    "                   param_grid=parameters,\n",
    "                   scoring='roc_auc',\n",
    "                   cv=3,\n",
    "                   verbose=0)\n",
    "clf.fit(X_train_std, y_train)"
   ]
  },
  {
   "cell_type": "code",
   "execution_count": 9,
   "id": "87855ef1",
   "metadata": {},
   "outputs": [
    {
     "name": "stdout",
     "output_type": "stream",
     "text": [
      "ROC-AUC train = 0.8694126678181349\n",
      "ROC-AUC test = 0.8687088274044795\n"
     ]
    }
   ],
   "source": [
    "# получение вероятностей\n",
    "y_train_grid = clf.predict_proba(X_train_std)\n",
    "y_proba_grid = clf.predict_proba(X_test_std)\n",
    "\n",
    "print(f'ROC-AUC train = {roc_auc_score(y_train, y_train_grid[:,1])}')\n",
    "print(f'ROC-AUC test = {roc_auc_score(y_test, y_proba_grid[:,1])}')"
   ]
  },
  {
   "cell_type": "markdown",
   "id": "9d99bb30",
   "metadata": {},
   "source": [
    "Видна небольшая положительная динамике как на train, так и на test."
   ]
  },
  {
   "cell_type": "code",
   "execution_count": 18,
   "id": "8149226e",
   "metadata": {},
   "outputs": [
    {
     "data": {
      "text/plain": [
       "{'C': 1,\n",
       " 'class_weight': 'balanced',\n",
       " 'max_iter': 1000,\n",
       " 'penalty': 'l2',\n",
       " 'random_state': 42,\n",
       " 'solver': 'saga'}"
      ]
     },
     "execution_count": 18,
     "metadata": {},
     "output_type": "execute_result"
    }
   ],
   "source": [
    "clf.best_params_"
   ]
  },
  {
   "cell_type": "code",
   "execution_count": 20,
   "id": "41a7418d",
   "metadata": {},
   "outputs": [
    {
     "data": {
      "text/plain": [
       "LogisticRegression(C=1, class_weight='balanced', max_iter=1000, random_state=42,\n",
       "                   solver='saga')"
      ]
     },
     "execution_count": 20,
     "metadata": {},
     "output_type": "execute_result"
    }
   ],
   "source": [
    "clf.best_estimator_\n"
   ]
  },
  {
   "cell_type": "markdown",
   "id": "3daa7b86",
   "metadata": {},
   "source": [
    "# 3 RandomizedSearch"
   ]
  },
  {
   "cell_type": "code",
   "execution_count": 21,
   "id": "4f0bb23c",
   "metadata": {},
   "outputs": [],
   "source": [
    "from sklearn.model_selection import RandomizedSearchCV\n",
    "\n",
    "# создадим словарь с параметрами, которые хотим установить и перебрать\n",
    "parameters = {\n",
    "    'max_iter': [1000],\n",
    "    'C': [1, 10, 100],\n",
    "    \"solver\": [\"liblinear\", \"saga\", \"sag\", \"lbfgs\"],\n",
    "    'penalty': ['l1', 'l2', 'elasticnet', 'none'],\n",
    "    \"random_state\": [42],\n",
    "    \"class_weight\" : ['balanced']\n",
    "}"
   ]
  },
  {
   "cell_type": "code",
   "execution_count": 22,
   "id": "c1528ea7",
   "metadata": {},
   "outputs": [
    {
     "data": {
      "text/plain": [
       "RandomizedSearchCV(cv=5, estimator=LogisticRegression(),\n",
       "                   param_distributions={'C': [1, 10, 100],\n",
       "                                        'class_weight': ['balanced'],\n",
       "                                        'max_iter': [1000],\n",
       "                                        'penalty': ['l1', 'l2', 'elasticnet',\n",
       "                                                    'none'],\n",
       "                                        'random_state': [42],\n",
       "                                        'solver': ['liblinear', 'saga', 'sag',\n",
       "                                                   'lbfgs']},\n",
       "                   random_state=42, scoring='roc_auc')"
      ]
     },
     "execution_count": 22,
     "metadata": {},
     "output_type": "execute_result"
    }
   ],
   "source": [
    "lr_grid = LogisticRegression()\n",
    "# подаем на вход модель, словарь с параметрами, установим, на какую метрику ориентироваться\n",
    "clf = RandomizedSearchCV(estimator=lr_grid,\n",
    "                         param_distributions=parameters,\n",
    "                         random_state=42,\n",
    "                         scoring='roc_auc',\n",
    "                         cv=5,\n",
    "                         verbose=0)\n",
    "clf.fit(X_train_std, y_train)\n"
   ]
  },
  {
   "cell_type": "code",
   "execution_count": 23,
   "id": "ad96bbf1",
   "metadata": {},
   "outputs": [
    {
     "name": "stdout",
     "output_type": "stream",
     "text": [
      "ROC-AUC train = 0.8694293557619297\n",
      "ROC-AUC test = 0.8687088274044795\n"
     ]
    }
   ],
   "source": [
    "# получение вероятностей\n",
    "y_train_grid = clf.predict_proba(X_train_std)\n",
    "y_proba_grid = clf.predict_proba(X_test_std)\n",
    "\n",
    "print(f'ROC-AUC train = {roc_auc_score(y_train, y_train_grid[:,1])}')\n",
    "print(f'ROC-AUC test = {roc_auc_score(y_test, y_proba_grid[:,1])}')"
   ]
  },
  {
   "cell_type": "code",
   "execution_count": null,
   "id": "2cca4d05",
   "metadata": {},
   "outputs": [],
   "source": []
  },
  {
   "cell_type": "code",
   "execution_count": null,
   "id": "cf2180a0",
   "metadata": {},
   "outputs": [],
   "source": []
  },
  {
   "cell_type": "code",
   "execution_count": null,
   "id": "389d8cb1",
   "metadata": {},
   "outputs": [],
   "source": []
  },
  {
   "cell_type": "code",
   "execution_count": null,
   "id": "2ef65776",
   "metadata": {},
   "outputs": [],
   "source": []
  }
 ],
 "metadata": {
  "kernelspec": {
   "display_name": "Python 3",
   "language": "python",
   "name": "python3"
  },
  "language_info": {
   "codemirror_mode": {
    "name": "ipython",
    "version": 3
   },
   "file_extension": ".py",
   "mimetype": "text/x-python",
   "name": "python",
   "nbconvert_exporter": "python",
   "pygments_lexer": "ipython3",
   "version": "3.8.8"
  }
 },
 "nbformat": 4,
 "nbformat_minor": 5
}
