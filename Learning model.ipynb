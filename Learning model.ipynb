{
 "cells": [
  {
   "cell_type": "code",
   "execution_count": 1,
   "id": "c49d3314",
   "metadata": {},
   "outputs": [
    {
     "data": {
      "text/html": [
       "<div>\n",
       "<style scoped>\n",
       "    .dataframe tbody tr th:only-of-type {\n",
       "        vertical-align: middle;\n",
       "    }\n",
       "\n",
       "    .dataframe tbody tr th {\n",
       "        vertical-align: top;\n",
       "    }\n",
       "\n",
       "    .dataframe thead th {\n",
       "        text-align: right;\n",
       "    }\n",
       "</style>\n",
       "<table border=\"1\" class=\"dataframe\">\n",
       "  <thead>\n",
       "    <tr style=\"text-align: right;\">\n",
       "      <th></th>\n",
       "      <th>age</th>\n",
       "      <th>sex</th>\n",
       "      <th>bmi</th>\n",
       "      <th>children</th>\n",
       "      <th>smoker</th>\n",
       "      <th>region</th>\n",
       "      <th>charges</th>\n",
       "    </tr>\n",
       "  </thead>\n",
       "  <tbody>\n",
       "    <tr>\n",
       "      <th>0</th>\n",
       "      <td>19</td>\n",
       "      <td>female</td>\n",
       "      <td>27.900</td>\n",
       "      <td>0</td>\n",
       "      <td>yes</td>\n",
       "      <td>southwest</td>\n",
       "      <td>16884.92400</td>\n",
       "    </tr>\n",
       "    <tr>\n",
       "      <th>1</th>\n",
       "      <td>18</td>\n",
       "      <td>male</td>\n",
       "      <td>33.770</td>\n",
       "      <td>1</td>\n",
       "      <td>no</td>\n",
       "      <td>southeast</td>\n",
       "      <td>1725.55230</td>\n",
       "    </tr>\n",
       "    <tr>\n",
       "      <th>2</th>\n",
       "      <td>28</td>\n",
       "      <td>male</td>\n",
       "      <td>33.000</td>\n",
       "      <td>3</td>\n",
       "      <td>no</td>\n",
       "      <td>southeast</td>\n",
       "      <td>4449.46200</td>\n",
       "    </tr>\n",
       "    <tr>\n",
       "      <th>3</th>\n",
       "      <td>33</td>\n",
       "      <td>male</td>\n",
       "      <td>22.705</td>\n",
       "      <td>0</td>\n",
       "      <td>no</td>\n",
       "      <td>northwest</td>\n",
       "      <td>21984.47061</td>\n",
       "    </tr>\n",
       "  </tbody>\n",
       "</table>\n",
       "</div>"
      ],
      "text/plain": [
       "   age     sex     bmi  children smoker     region      charges\n",
       "0   19  female  27.900         0    yes  southwest  16884.92400\n",
       "1   18    male  33.770         1     no  southeast   1725.55230\n",
       "2   28    male  33.000         3     no  southeast   4449.46200\n",
       "3   33    male  22.705         0     no  northwest  21984.47061"
      ]
     },
     "execution_count": 1,
     "metadata": {},
     "output_type": "execute_result"
    }
   ],
   "source": [
    "import pandas as pd\n",
    "import numpy as np\n",
    "\n",
    "import seaborn as sns\n",
    "import matplotlib.pyplot as plt\n",
    "\n",
    "from sklearn.preprocessing import MinMaxScaler\n",
    "from sklearn.model_selection import train_test_split, GridSearchCV, learning_curve\n",
    "from sklearn.neighbors import KNeighborsRegressor\n",
    "from sklearn.pipeline import Pipeline\n",
    "from sklearn.metrics import mean_absolute_error, mean_squared_error, r2_score\n",
    "\n",
    "RANDOM_STATE = 42\n",
    "TEST_SIZE = 0.25\n",
    "\n",
    "COLORS = ['#408FB0', '#50B985', '#DB565F', '#FCB06E']\n",
    "customPalette = sns.set_palette(sns.color_palette(COLORS))\n",
    "\n",
    "\n",
    "# загружаем датасет\n",
    "df = pd.read_csv('insurance.csv')\n",
    "df[:4]"
   ]
  },
  {
   "cell_type": "markdown",
   "id": "8abe5b8a",
   "metadata": {},
   "source": [
    "## Признаки:\n",
    "\n",
    "- age - возраст\n",
    "- sex - пол\n",
    "- bmi - индекс массы тела\n",
    "- children - количество детей\n",
    "- smoker - курит или нет\n",
    "- region - регион проживания\n",
    "- charges - индивидуальные медицинские расходы, оплачиваемые медицинской страховкой\n",
    "\n",
    "Заменим значение 'yes' на 1, а 'no' на 0.  "
   ]
  },
  {
   "cell_type": "code",
   "execution_count": 2,
   "id": "597a87f9",
   "metadata": {},
   "outputs": [
    {
     "data": {
      "text/html": [
       "<div>\n",
       "<style scoped>\n",
       "    .dataframe tbody tr th:only-of-type {\n",
       "        vertical-align: middle;\n",
       "    }\n",
       "\n",
       "    .dataframe tbody tr th {\n",
       "        vertical-align: top;\n",
       "    }\n",
       "\n",
       "    .dataframe thead th {\n",
       "        text-align: right;\n",
       "    }\n",
       "</style>\n",
       "<table border=\"1\" class=\"dataframe\">\n",
       "  <thead>\n",
       "    <tr style=\"text-align: right;\">\n",
       "      <th></th>\n",
       "      <th>age</th>\n",
       "      <th>sex</th>\n",
       "      <th>bmi</th>\n",
       "      <th>children</th>\n",
       "      <th>smoker</th>\n",
       "      <th>region</th>\n",
       "      <th>charges</th>\n",
       "    </tr>\n",
       "  </thead>\n",
       "  <tbody>\n",
       "    <tr>\n",
       "      <th>0</th>\n",
       "      <td>19</td>\n",
       "      <td>female</td>\n",
       "      <td>27.900</td>\n",
       "      <td>0</td>\n",
       "      <td>1</td>\n",
       "      <td>southwest</td>\n",
       "      <td>16884.92400</td>\n",
       "    </tr>\n",
       "    <tr>\n",
       "      <th>1</th>\n",
       "      <td>18</td>\n",
       "      <td>male</td>\n",
       "      <td>33.770</td>\n",
       "      <td>1</td>\n",
       "      <td>0</td>\n",
       "      <td>southeast</td>\n",
       "      <td>1725.55230</td>\n",
       "    </tr>\n",
       "    <tr>\n",
       "      <th>2</th>\n",
       "      <td>28</td>\n",
       "      <td>male</td>\n",
       "      <td>33.000</td>\n",
       "      <td>3</td>\n",
       "      <td>0</td>\n",
       "      <td>southeast</td>\n",
       "      <td>4449.46200</td>\n",
       "    </tr>\n",
       "    <tr>\n",
       "      <th>3</th>\n",
       "      <td>33</td>\n",
       "      <td>male</td>\n",
       "      <td>22.705</td>\n",
       "      <td>0</td>\n",
       "      <td>0</td>\n",
       "      <td>northwest</td>\n",
       "      <td>21984.47061</td>\n",
       "    </tr>\n",
       "  </tbody>\n",
       "</table>\n",
       "</div>"
      ],
      "text/plain": [
       "   age     sex     bmi  children  smoker     region      charges\n",
       "0   19  female  27.900         0       1  southwest  16884.92400\n",
       "1   18    male  33.770         1       0  southeast   1725.55230\n",
       "2   28    male  33.000         3       0  southeast   4449.46200\n",
       "3   33    male  22.705         0       0  northwest  21984.47061"
      ]
     },
     "execution_count": 2,
     "metadata": {},
     "output_type": "execute_result"
    }
   ],
   "source": [
    "df.smoker = df.smoker.map({\"yes\":1, \"no\": 0})\n",
    "df[:4]"
   ]
  },
  {
   "cell_type": "code",
   "execution_count": 3,
   "id": "a7d098a3",
   "metadata": {},
   "outputs": [
    {
     "name": "stdout",
     "output_type": "stream",
     "text": [
      "<class 'pandas.core.frame.DataFrame'>\n",
      "RangeIndex: 1338 entries, 0 to 1337\n",
      "Data columns (total 7 columns):\n",
      " #   Column    Non-Null Count  Dtype  \n",
      "---  ------    --------------  -----  \n",
      " 0   age       1338 non-null   int64  \n",
      " 1   sex       1338 non-null   object \n",
      " 2   bmi       1338 non-null   float64\n",
      " 3   children  1338 non-null   int64  \n",
      " 4   smoker    1338 non-null   int64  \n",
      " 5   region    1338 non-null   object \n",
      " 6   charges   1338 non-null   float64\n",
      "dtypes: float64(2), int64(3), object(2)\n",
      "memory usage: 73.3+ KB\n"
     ]
    }
   ],
   "source": [
    "df.info()"
   ]
  },
  {
   "cell_type": "code",
   "execution_count": 4,
   "id": "cdbda84d",
   "metadata": {},
   "outputs": [
    {
     "data": {
      "text/html": [
       "<div>\n",
       "<style scoped>\n",
       "    .dataframe tbody tr th:only-of-type {\n",
       "        vertical-align: middle;\n",
       "    }\n",
       "\n",
       "    .dataframe tbody tr th {\n",
       "        vertical-align: top;\n",
       "    }\n",
       "\n",
       "    .dataframe thead th {\n",
       "        text-align: right;\n",
       "    }\n",
       "</style>\n",
       "<table border=\"1\" class=\"dataframe\">\n",
       "  <thead>\n",
       "    <tr style=\"text-align: right;\">\n",
       "      <th></th>\n",
       "      <th>age</th>\n",
       "      <th>bmi</th>\n",
       "      <th>children</th>\n",
       "      <th>smoker</th>\n",
       "      <th>charges</th>\n",
       "    </tr>\n",
       "  </thead>\n",
       "  <tbody>\n",
       "    <tr>\n",
       "      <th>count</th>\n",
       "      <td>1338.000000</td>\n",
       "      <td>1338.000000</td>\n",
       "      <td>1338.000000</td>\n",
       "      <td>1338.000000</td>\n",
       "      <td>1338.000000</td>\n",
       "    </tr>\n",
       "    <tr>\n",
       "      <th>mean</th>\n",
       "      <td>39.207025</td>\n",
       "      <td>30.663397</td>\n",
       "      <td>1.094918</td>\n",
       "      <td>0.204783</td>\n",
       "      <td>13270.422265</td>\n",
       "    </tr>\n",
       "    <tr>\n",
       "      <th>std</th>\n",
       "      <td>14.049960</td>\n",
       "      <td>6.098187</td>\n",
       "      <td>1.205493</td>\n",
       "      <td>0.403694</td>\n",
       "      <td>12110.011237</td>\n",
       "    </tr>\n",
       "    <tr>\n",
       "      <th>min</th>\n",
       "      <td>18.000000</td>\n",
       "      <td>15.960000</td>\n",
       "      <td>0.000000</td>\n",
       "      <td>0.000000</td>\n",
       "      <td>1121.873900</td>\n",
       "    </tr>\n",
       "    <tr>\n",
       "      <th>25%</th>\n",
       "      <td>27.000000</td>\n",
       "      <td>26.296250</td>\n",
       "      <td>0.000000</td>\n",
       "      <td>0.000000</td>\n",
       "      <td>4740.287150</td>\n",
       "    </tr>\n",
       "    <tr>\n",
       "      <th>50%</th>\n",
       "      <td>39.000000</td>\n",
       "      <td>30.400000</td>\n",
       "      <td>1.000000</td>\n",
       "      <td>0.000000</td>\n",
       "      <td>9382.033000</td>\n",
       "    </tr>\n",
       "    <tr>\n",
       "      <th>75%</th>\n",
       "      <td>51.000000</td>\n",
       "      <td>34.693750</td>\n",
       "      <td>2.000000</td>\n",
       "      <td>0.000000</td>\n",
       "      <td>16639.912515</td>\n",
       "    </tr>\n",
       "    <tr>\n",
       "      <th>max</th>\n",
       "      <td>64.000000</td>\n",
       "      <td>53.130000</td>\n",
       "      <td>5.000000</td>\n",
       "      <td>1.000000</td>\n",
       "      <td>63770.428010</td>\n",
       "    </tr>\n",
       "  </tbody>\n",
       "</table>\n",
       "</div>"
      ],
      "text/plain": [
       "               age          bmi     children       smoker       charges\n",
       "count  1338.000000  1338.000000  1338.000000  1338.000000   1338.000000\n",
       "mean     39.207025    30.663397     1.094918     0.204783  13270.422265\n",
       "std      14.049960     6.098187     1.205493     0.403694  12110.011237\n",
       "min      18.000000    15.960000     0.000000     0.000000   1121.873900\n",
       "25%      27.000000    26.296250     0.000000     0.000000   4740.287150\n",
       "50%      39.000000    30.400000     1.000000     0.000000   9382.033000\n",
       "75%      51.000000    34.693750     2.000000     0.000000  16639.912515\n",
       "max      64.000000    53.130000     5.000000     1.000000  63770.428010"
      ]
     },
     "execution_count": 4,
     "metadata": {},
     "output_type": "execute_result"
    }
   ],
   "source": [
    "df.describe()"
   ]
  },
  {
   "cell_type": "code",
   "execution_count": 5,
   "id": "7b87e025",
   "metadata": {},
   "outputs": [
    {
     "data": {
      "text/html": [
       "<div>\n",
       "<style scoped>\n",
       "    .dataframe tbody tr th:only-of-type {\n",
       "        vertical-align: middle;\n",
       "    }\n",
       "\n",
       "    .dataframe tbody tr th {\n",
       "        vertical-align: top;\n",
       "    }\n",
       "\n",
       "    .dataframe thead th {\n",
       "        text-align: right;\n",
       "    }\n",
       "</style>\n",
       "<table border=\"1\" class=\"dataframe\">\n",
       "  <thead>\n",
       "    <tr style=\"text-align: right;\">\n",
       "      <th></th>\n",
       "      <th>sex</th>\n",
       "      <th>region</th>\n",
       "    </tr>\n",
       "  </thead>\n",
       "  <tbody>\n",
       "    <tr>\n",
       "      <th>count</th>\n",
       "      <td>1338</td>\n",
       "      <td>1338</td>\n",
       "    </tr>\n",
       "    <tr>\n",
       "      <th>unique</th>\n",
       "      <td>2</td>\n",
       "      <td>4</td>\n",
       "    </tr>\n",
       "    <tr>\n",
       "      <th>top</th>\n",
       "      <td>male</td>\n",
       "      <td>southeast</td>\n",
       "    </tr>\n",
       "    <tr>\n",
       "      <th>freq</th>\n",
       "      <td>676</td>\n",
       "      <td>364</td>\n",
       "    </tr>\n",
       "  </tbody>\n",
       "</table>\n",
       "</div>"
      ],
      "text/plain": [
       "         sex     region\n",
       "count   1338       1338\n",
       "unique     2          4\n",
       "top     male  southeast\n",
       "freq     676        364"
      ]
     },
     "execution_count": 5,
     "metadata": {},
     "output_type": "execute_result"
    }
   ],
   "source": [
    "df.describe(include='object')"
   ]
  },
  {
   "cell_type": "code",
   "execution_count": 6,
   "id": "9defc8ac",
   "metadata": {},
   "outputs": [
    {
     "data": {
      "image/png": "[encoded data removed]",
      "text/plain": [
       "<Figure size 720x360 with 1 Axes>"
      ]
     },
     "metadata": {
      "needs_background": "light"
     },
     "output_type": "display_data"
    }
   ],
   "source": [
    "plt.figure(figsize=(10, 5))\n",
    "\n",
    "sns.kdeplot(df.charges, fill=True, color='teal');"
   ]
  },
  {
   "cell_type": "markdown",
   "id": "82737753",
   "metadata": {},
   "source": [
    "Отметим, что распределение ненормальное, есть длинных хвост, поэтому стоит аккуратно подходить к выбору метрики. Больше всего будем ориентироваться на MAE, так как метрику устойчива к выбросам."
   ]
  },
  {
   "cell_type": "code",
   "execution_count": 7,
   "id": "8998facf",
   "metadata": {},
   "outputs": [
    {
     "data": {
      "image/png": "[encoded data removed]",
      "text/plain": [
       "<Figure size 720x360 with 1 Axes>"
      ]
     },
     "metadata": {
      "needs_background": "light"
     },
     "output_type": "display_data"
    }
   ],
   "source": [
    "plt.figure(figsize=(10, 5))\n",
    "sns.boxplot(data=df, x='region', y='charges', palette=customPalette)\n",
    "plt.xlabel('Region')\n",
    "plt.ylabel('Claim Amount, $')\n",
    "plt.show()"
   ]
  },
  {
   "cell_type": "markdown",
   "id": "18ecf169",
   "metadata": {},
   "source": [
    "Для каждого региона графики показывают, что расходы, оплачиваемые медицинской страховкой, имеют немного разные значения. Charges имеет больший разброс в Юго-Восточном регионе, а также самые высокие максимальные значения. В Северо-Восточном регионе самая высокая медианная стоимость, но большой разницы между другими регионами нет."
   ]
  },
  {
   "cell_type": "code",
   "execution_count": 8,
   "id": "d68fd534",
   "metadata": {},
   "outputs": [
    {
     "data": {
      "image/png": "[encoded data removed]",
      "text/plain": [
       "<Figure size 720x360 with 1 Axes>"
      ]
     },
     "metadata": {
      "needs_background": "light"
     },
     "output_type": "display_data"
    }
   ],
   "source": [
    "plt.figure(figsize=(10, 5))\n",
    "sns.kdeplot(data=df, hue='smoker', x='charges', fill=True)\n",
    "plt.xlabel('Claim Amount, $')\n",
    "plt.show()"
   ]
  },
  {
   "cell_type": "code",
   "execution_count": 9,
   "id": "9a07f4dd",
   "metadata": {},
   "outputs": [
    {
     "data": {
      "text/plain": [
       "smoker\n",
       "0     7345.40530\n",
       "1    34456.34845\n",
       "Name: charges, dtype: float64"
      ]
     },
     "execution_count": 9,
     "metadata": {},
     "output_type": "execute_result"
    }
   ],
   "source": [
    "df.groupby('smoker')['charges'].median()"
   ]
  },
  {
   "cell_type": "markdown",
   "id": "7b5f4b44",
   "metadata": {},
   "source": [
    "Медианное значение суммы charges для курильщиков составляет около 34456 долларов, что почти в 5 раз выше суммы для некурящих. Распределение расходов на страхование между группами также заметно отличается: для некурящих распределение смещено влево, для курильщиков распределение расходов имеет больший разброс значений, а также смещено правее.\n",
    "\n",
    "Добавим бины для анализа признака age в разрезе целевой переменной charges"
   ]
  },
  {
   "cell_type": "code",
   "execution_count": 10,
   "id": "516da28f",
   "metadata": {},
   "outputs": [
    {
     "data": {
      "image/png": "[encoded data removed]",
      "text/plain": [
       "<Figure size 1440x504 with 2 Axes>"
      ]
     },
     "metadata": {
      "needs_background": "light"
     },
     "output_type": "display_data"
    }
   ],
   "source": [
    "df_ = df.copy()\n",
    "df_['age_bins'] = pd.cut(df_.age, bins=3, labels=[\"young\", \"middle\", \"old\"])\n",
    "\n",
    "\n",
    "fig, axes = plt.subplots(ncols=2, figsize=(20, 7))\n",
    "sns.boxplot(data=df_,\n",
    "            x='age_bins',\n",
    "            y='charges',\n",
    "            hue='sex',\n",
    "            palette=customPalette,\n",
    "            ax=axes[0])\n",
    "\n",
    "sns.boxplot(data=df_,\n",
    "            x='age_bins',\n",
    "            y='charges',\n",
    "            hue='smoker',\n",
    "            palette=customPalette,\n",
    "            ax=axes[1])\n",
    "\n",
    "axes[0].set_xlabel('Age')\n",
    "axes[0].set_ylabel('Claim Amount, $')\n",
    "axes[1].set_xlabel('Age')\n",
    "axes[1].set_ylabel('Claim Amount, $')\n",
    "\n",
    "plt.show()"
   ]
  },
  {
   "cell_type": "markdown",
   "id": "4ce7fd1a",
   "metadata": {},
   "source": [
    "Чем выше значение возраста, тем больше расходов на страховку. Для мужчин разброс значений расходов на страховку больше, \n",
    "чем у женщин. Также вне зависимости от возраста, у курящих и разброс значений и максимальные значения charges больше, \n",
    "чем у некурящий, но также в возрастом эти траты увеличиваются как для курящих, так и для некурящих."
   ]
  },
  {
   "cell_type": "code",
   "execution_count": 10,
   "id": "dd37099c",
   "metadata": {},
   "outputs": [],
   "source": [
    "X = pd.get_dummies(df.drop('charges', axis=1))\n",
    "y = df['charges']\n",
    "\n",
    "X_train, X_test, y_train, y_test = train_test_split(X,\n",
    "                                                    y,\n",
    "                                                    test_size= TEST_SIZE,\n",
    "                                                    random_state= RANDOM_STATE)"
   ]
  },
  {
   "cell_type": "markdown",
   "id": "bcd6f4be",
   "metadata": {},
   "source": [
    "Так как мы хотим использовать метрический алгоритм, то необходимо нормировать данные. Вторым шагом необходимо обучить baseline (модель со значениями параметров по умолчанию). Чтобы сократить количество строк кода и сделать наше обучение и предобработку данных более удобными, давайте воспользуемся таким инструментом как Pipeline"
   ]
  },
  {
   "cell_type": "code",
   "execution_count": 11,
   "id": "a2d745d6",
   "metadata": {},
   "outputs": [
    {
     "data": {
      "text/plain": [
       "Pipeline(steps=[('minmax', MinMaxScaler()), ('knn', KNeighborsRegressor())])"
      ]
     },
     "execution_count": 11,
     "metadata": {},
     "output_type": "execute_result"
    }
   ],
   "source": [
    "# Используем конвейер, чтобы объединить несколько действий\n",
    "pipe = Pipeline(steps=[(\"minmax\", MinMaxScaler()), (\"knn\", KNeighborsRegressor())])\n",
    "# обучим модель - бейзлан\n",
    "pipe.fit(X_train, y_train)"
   ]
  },
  {
   "cell_type": "code",
   "execution_count": 12,
   "id": "4e8ff392",
   "metadata": {},
   "outputs": [],
   "source": [
    "def r2_adjusted(y_test, y_pred, X_test):\n",
    "    \"\"\"Коэффициент детерминации для множественной регрессии\"\"\"\n",
    "\n",
    "    n = len(y_test)\n",
    "    h = X_test.shape[1]\n",
    "    r2 = r2_score(y_test, y_pred)\n",
    "    return 1 - (1 - r2) * (n - 1) / (n - h - 1)\n",
    "\n",
    "\n",
    "def get_metrics(y_test, model, X_test, name):\n",
    "    \"\"\"Получение датасета с метриками\"\"\"\n",
    "\n",
    "    y_pred = model.predict(X_test)\n",
    "\n",
    "    df_metrics = pd.DataFrame()\n",
    "    df_metrics['model'] = [name]\n",
    "    df_metrics['MAE'] = [mean_absolute_error(y_test, y_pred)]\n",
    "    df_metrics['MSE'] = [mean_squared_error(y_test, y_pred)]\n",
    "    df_metrics['RMSE'] = [np.sqrt(mean_squared_error(y_test, y_pred))]\n",
    "    df_metrics['R2 adjusted'] = [r2_adjusted(y_test, y_pred, X_test)]\n",
    "    return df_metrics"
   ]
  },
  {
   "cell_type": "code",
   "execution_count": 13,
   "id": "dc419023",
   "metadata": {},
   "outputs": [
    {
     "data": {
      "text/html": [
       "<div>\n",
       "<style scoped>\n",
       "    .dataframe tbody tr th:only-of-type {\n",
       "        vertical-align: middle;\n",
       "    }\n",
       "\n",
       "    .dataframe tbody tr th {\n",
       "        vertical-align: top;\n",
       "    }\n",
       "\n",
       "    .dataframe thead th {\n",
       "        text-align: right;\n",
       "    }\n",
       "</style>\n",
       "<table border=\"1\" class=\"dataframe\">\n",
       "  <thead>\n",
       "    <tr style=\"text-align: right;\">\n",
       "      <th></th>\n",
       "      <th>MAE</th>\n",
       "      <th>MSE</th>\n",
       "      <th>RMSE</th>\n",
       "      <th>R2 adjusted</th>\n",
       "    </tr>\n",
       "    <tr>\n",
       "      <th>model</th>\n",
       "      <th></th>\n",
       "      <th></th>\n",
       "      <th></th>\n",
       "      <th></th>\n",
       "    </tr>\n",
       "  </thead>\n",
       "  <tbody>\n",
       "    <tr>\n",
       "      <th>KNN train</th>\n",
       "      <td>2850.47</td>\n",
       "      <td>23090685.77</td>\n",
       "      <td>4805.28</td>\n",
       "      <td>0.84</td>\n",
       "    </tr>\n",
       "    <tr>\n",
       "      <th>KNN test</th>\n",
       "      <td>3570.26</td>\n",
       "      <td>33099086.69</td>\n",
       "      <td>5753.18</td>\n",
       "      <td>0.77</td>\n",
       "    </tr>\n",
       "  </tbody>\n",
       "</table>\n",
       "</div>"
      ],
      "text/plain": [
       "               MAE          MSE     RMSE  R2 adjusted\n",
       "model                                                \n",
       "KNN train  2850.47  23090685.77  4805.28         0.84\n",
       "KNN test   3570.26  33099086.69  5753.18         0.77"
      ]
     },
     "execution_count": 13,
     "metadata": {},
     "output_type": "execute_result"
    }
   ],
   "source": [
    "metrics = get_metrics(y_train, pipe, X_train, 'KNN train')\n",
    "metrics = metrics.append(get_metrics(y_test, pipe, X_test, 'KNN test'))\n",
    "round(metrics.set_index('model'), 2)"
   ]
  },
  {
   "cell_type": "markdown",
   "id": "c9e7d957",
   "metadata": {},
   "source": [
    "Видим разницу между метриками на train и test, но пока все же модель не близка к переобучению. Бейзлайн отработал хорошо, \n",
    "если ориентироваться на r 2adjusted, но все еще модель далека от идеальной."
   ]
  },
  {
   "cell_type": "markdown",
   "id": "23718bbb",
   "metadata": {},
   "source": [
    "Теперь попробуем подобрать лучшие параметры для алгоритма KNN с использованием Pipeline и GridSearchCV"
   ]
  },
  {
   "cell_type": "code",
   "execution_count": 14,
   "id": "11acd5d8",
   "metadata": {},
   "outputs": [
    {
     "data": {
      "text/plain": [
       "GridSearchCV(cv=3,\n",
       "             estimator=Pipeline(steps=[('minmax', MinMaxScaler()),\n",
       "                                       ('knn', KNeighborsRegressor())]),\n",
       "             param_grid={'knn__algorithm': ['auto', 'ball_tree', 'kd_tree',\n",
       "                                            'brute'],\n",
       "                         'knn__metric': ['euclidean', 'manhattan', 'minkowski'],\n",
       "                         'knn__n_neighbors': [3, 5, 7, 9, 11, 13, 15, 17, 19,\n",
       "                                              21, 23, 25, 27, 29, 31]},\n",
       "             scoring='neg_mean_absolute_error')"
      ]
     },
     "execution_count": 14,
     "metadata": {},
     "output_type": "execute_result"
    }
   ],
   "source": [
    "# создадим словарь с параметрами, которые хотим установить и перебрать\n",
    "parameters = {\n",
    "    'knn__n_neighbors': list(range(3, 32, 2)),\n",
    "    'knn__metric': ['euclidean', 'manhattan', 'minkowski'],\n",
    "    'knn__algorithm': [\"auto\", \"ball_tree\", \"kd_tree\", \"brute\"]\n",
    "}\n",
    "\n",
    "# подаем на вход модель, словарь с параметрами, установим, на какую метрику ориентироваться\n",
    "clf = GridSearchCV(estimator=pipe,\n",
    "                   param_grid=parameters,\n",
    "                   scoring='neg_mean_absolute_error',\n",
    "                   cv=3,\n",
    "                   verbose=0)\n",
    "clf.fit(X_train, y_train)"
   ]
  },
  {
   "cell_type": "code",
   "execution_count": 16,
   "id": "1727c9b6",
   "metadata": {},
   "outputs": [
    {
     "data": {
      "text/plain": [
       "Pipeline(steps=[('minmax', MinMaxScaler()),\n",
       "                ('knn',\n",
       "                 KNeighborsRegressor(metric='manhattan', n_neighbors=3))])"
      ]
     },
     "execution_count": 16,
     "metadata": {},
     "output_type": "execute_result"
    }
   ],
   "source": [
    "# Посмотрим на лучшие значения параметров\n",
    "clf.best_estimator_"
   ]
  },
  {
   "cell_type": "markdown",
   "id": "37d53c1c",
   "metadata": {},
   "source": [
    "Получается, что модель лучше всего работает, когда KNN использует 3 соседей и манхэттенское расстояние при поиске ближайших соседей."
   ]
  },
  {
   "cell_type": "markdown",
   "id": "278e97cb",
   "metadata": {},
   "source": [
    "Оценим, как изменились метрики"
   ]
  },
  {
   "cell_type": "code",
   "execution_count": 17,
   "id": "aa30ee43",
   "metadata": {},
   "outputs": [
    {
     "data": {
      "text/html": [
       "<div>\n",
       "<style scoped>\n",
       "    .dataframe tbody tr th:only-of-type {\n",
       "        vertical-align: middle;\n",
       "    }\n",
       "\n",
       "    .dataframe tbody tr th {\n",
       "        vertical-align: top;\n",
       "    }\n",
       "\n",
       "    .dataframe thead th {\n",
       "        text-align: right;\n",
       "    }\n",
       "</style>\n",
       "<table border=\"1\" class=\"dataframe\">\n",
       "  <thead>\n",
       "    <tr style=\"text-align: right;\">\n",
       "      <th></th>\n",
       "      <th>MAE</th>\n",
       "      <th>MSE</th>\n",
       "      <th>RMSE</th>\n",
       "      <th>R2 adjusted</th>\n",
       "    </tr>\n",
       "    <tr>\n",
       "      <th>model</th>\n",
       "      <th></th>\n",
       "      <th></th>\n",
       "      <th></th>\n",
       "      <th></th>\n",
       "    </tr>\n",
       "  </thead>\n",
       "  <tbody>\n",
       "    <tr>\n",
       "      <th>KNN train</th>\n",
       "      <td>2850.47</td>\n",
       "      <td>23090685.77</td>\n",
       "      <td>4805.28</td>\n",
       "      <td>0.84</td>\n",
       "    </tr>\n",
       "    <tr>\n",
       "      <th>KNN test</th>\n",
       "      <td>3570.26</td>\n",
       "      <td>33099086.69</td>\n",
       "      <td>5753.18</td>\n",
       "      <td>0.77</td>\n",
       "    </tr>\n",
       "    <tr>\n",
       "      <th>KNN Grid train</th>\n",
       "      <td>2375.90</td>\n",
       "      <td>18347891.76</td>\n",
       "      <td>4283.44</td>\n",
       "      <td>0.87</td>\n",
       "    </tr>\n",
       "    <tr>\n",
       "      <th>KNN Grid test</th>\n",
       "      <td>3361.65</td>\n",
       "      <td>32200058.56</td>\n",
       "      <td>5674.51</td>\n",
       "      <td>0.78</td>\n",
       "    </tr>\n",
       "  </tbody>\n",
       "</table>\n",
       "</div>"
      ],
      "text/plain": [
       "                    MAE          MSE     RMSE  R2 adjusted\n",
       "model                                                     \n",
       "KNN train       2850.47  23090685.77  4805.28         0.84\n",
       "KNN test        3570.26  33099086.69  5753.18         0.77\n",
       "KNN Grid train  2375.90  18347891.76  4283.44         0.87\n",
       "KNN Grid test   3361.65  32200058.56  5674.51         0.78"
      ]
     },
     "execution_count": 17,
     "metadata": {},
     "output_type": "execute_result"
    }
   ],
   "source": [
    "# получение предсказаний\n",
    "metrics = metrics.append(\n",
    "    get_metrics(y_train, clf, X_train, 'KNN Grid train'))\n",
    "metrics = metrics.append(get_metrics(y_test, clf, X_test, 'KNN Grid test'))\n",
    "round(metrics.set_index('model'), 2)"
   ]
  },
  {
   "cell_type": "markdown",
   "id": "95e2ece9",
   "metadata": {},
   "source": [
    "Стоит также рассмотреть и линейные модели, так как есть корреляция между признаками и целевой переменной. "
   ]
  },
  {
   "cell_type": "code",
   "execution_count": 18,
   "id": "25348452",
   "metadata": {},
   "outputs": [
    {
     "data": {
      "image/png": "[encoded data removed]",
      "text/plain": [
       "<Figure size 720x360 with 1 Axes>"
      ]
     },
     "metadata": {
      "needs_background": "light"
     },
     "output_type": "display_data"
    }
   ],
   "source": [
    "# Посмотрим на распределения предсказанных значений и тестовых данных.\n",
    "y_pred_test = clf.predict(X_test)\n",
    "\n",
    "plt.figure(figsize=(10, 5))\n",
    "sns.kdeplot(y_test, fill=True, palette=customPalette, label='y_test');\n",
    "sns.kdeplot(y_pred_test, fill=True, palette=customPalette, label='y_test_pred')\n",
    "plt.legend()\n",
    "plt.show()"
   ]
  },
  {
   "cell_type": "markdown",
   "id": "eef72c23",
   "metadata": {},
   "source": [
    "Можно отметить, что алгоритм с лучшими параметрами довольно хорошо описал свойства распределения, а также разброс значений"
   ]
  },
  {
   "cell_type": "markdown",
   "id": "54dd4ed9",
   "metadata": {},
   "source": [
    "Дополнительно найдем важные признаки, которые влияют на результат модели с помощью permutation_importance()"
   ]
  },
  {
   "cell_type": "code",
   "execution_count": 20,
   "id": "2295cf35",
   "metadata": {},
   "outputs": [
    {
     "data": {
      "text/html": [
       "<div>\n",
       "<style scoped>\n",
       "    .dataframe tbody tr th:only-of-type {\n",
       "        vertical-align: middle;\n",
       "    }\n",
       "\n",
       "    .dataframe tbody tr th {\n",
       "        vertical-align: top;\n",
       "    }\n",
       "\n",
       "    .dataframe thead th {\n",
       "        text-align: right;\n",
       "    }\n",
       "</style>\n",
       "<table border=\"1\" class=\"dataframe\">\n",
       "  <thead>\n",
       "    <tr style=\"text-align: right;\">\n",
       "      <th></th>\n",
       "      <th>col</th>\n",
       "      <th>value</th>\n",
       "    </tr>\n",
       "  </thead>\n",
       "  <tbody>\n",
       "    <tr>\n",
       "      <th>3</th>\n",
       "      <td>smoker</td>\n",
       "      <td>204581705.7</td>\n",
       "    </tr>\n",
       "    <tr>\n",
       "      <th>0</th>\n",
       "      <td>age</td>\n",
       "      <td>29512183.0</td>\n",
       "    </tr>\n",
       "    <tr>\n",
       "      <th>1</th>\n",
       "      <td>bmi</td>\n",
       "      <td>23203403.1</td>\n",
       "    </tr>\n",
       "    <tr>\n",
       "      <th>2</th>\n",
       "      <td>children</td>\n",
       "      <td>5712797.6</td>\n",
       "    </tr>\n",
       "  </tbody>\n",
       "</table>\n",
       "</div>"
      ],
      "text/plain": [
       "        col        value\n",
       "3    smoker  204581705.7\n",
       "0       age   29512183.0\n",
       "1       bmi   23203403.1\n",
       "2  children    5712797.6"
      ]
     },
     "execution_count": 20,
     "metadata": {},
     "output_type": "execute_result"
    }
   ],
   "source": [
    "from sklearn.inspection import permutation_importance\n",
    "\n",
    "\n",
    "results = permutation_importance(clf,\n",
    "                                 X_test,\n",
    "                                 y_test,\n",
    "                                 n_repeats=30,\n",
    "                                 random_state=RANDOM_STATE,\n",
    "                                 scoring='neg_mean_squared_error')\n",
    "\n",
    "perm_df = pd.DataFrame({'col': X.columns, 'value': results.importances_mean})\n",
    "perm_df = round(perm_df.sort_values(by='value', ascending=False), 1)\n",
    "perm_df[:4]"
   ]
  },
  {
   "cell_type": "code",
   "execution_count": 21,
   "id": "3721714a",
   "metadata": {},
   "outputs": [
    {
     "data": {
      "image/png": "[encoded data removed]",
      "text/plain": [
       "<Figure size 720x432 with 1 Axes>"
      ]
     },
     "metadata": {
      "needs_background": "light"
     },
     "output_type": "display_data"
    }
   ],
   "source": [
    "plt.figure(figsize=(10, 6))\n",
    "\n",
    "b = sns.barplot(data=perm_df, y=\"col\", x=\"value\", palette='viridis')\n",
    "\n",
    "b.set_xlabel('Importances mean', fontsize=16);\n",
    "b.set_ylabel('Features', fontsize=16);\n",
    "b.set_title('Feature Importance', fontsize=20)\n",
    "b.tick_params(labelsize=14)\n",
    "\n",
    "plt.grid()\n",
    "plt.show()"
   ]
  }
 ],
 "metadata": {
  "kernelspec": {
   "display_name": "Python 3",
   "language": "python",
   "name": "python3"
  },
  "language_info": {
   "codemirror_mode": {
    "name": "ipython",
    "version": 3
   },
   "file_extension": ".py",
   "mimetype": "text/x-python",
   "name": "python",
   "nbconvert_exporter": "python",
   "pygments_lexer": "ipython3",
   "version": "3.8.8"
  }
 },
 "nbformat": 4,
 "nbformat_minor": 5
}
